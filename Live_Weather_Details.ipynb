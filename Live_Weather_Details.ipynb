{
  "nbformat": 4,
  "nbformat_minor": 0,
  "metadata": {
    "colab": {
      "name": "Live Weather Details.ipynb",
      "provenance": []
    },
    "kernelspec": {
      "name": "python3",
      "display_name": "Python 3"
    },
    "language_info": {
      "name": "python"
    }
  },
  "cells": [
    {
      "cell_type": "markdown",
      "source": [
        "# Live Weather Details - Web Scrapping - Python\n",
        "\n",
        "\n",
        "*   Author: Purva Natoo\n",
        "\n",
        "\n"
      ],
      "metadata": {
        "id": "NbAlG-xcx3u2"
      }
    },
    {
      "cell_type": "markdown",
      "source": [
        "##### Install necessary libraries"
      ],
      "metadata": {
        "id": "wtGefRCMyZKZ"
      }
    },
    {
      "cell_type": "code",
      "execution_count": null,
      "metadata": {
        "id": "5fe6yX51xk0w"
      },
      "outputs": [],
      "source": [
        "!pip install bs4\n",
        "!pip install requests"
      ]
    },
    {
      "cell_type": "markdown",
      "source": [
        "##### Import Dependencies"
      ],
      "metadata": {
        "id": "emrkdMTdy3Fg"
      }
    },
    {
      "cell_type": "code",
      "source": [
        "import requests\n",
        "from bs4 import BeautifulSoup"
      ],
      "metadata": {
        "id": "jJvVDhZPytpi"
      },
      "execution_count": 59,
      "outputs": []
    },
    {
      "cell_type": "markdown",
      "source": [
        "##### Define a function to get data from a given url"
      ],
      "metadata": {
        "id": "tctSyZFuzu8Y"
      }
    },
    {
      "cell_type": "code",
      "source": [
        "def getData(url):\n",
        "  data = requests.get(url)\n",
        "  return data.text\n",
        "  "
      ],
      "metadata": {
        "id": "EsGpKjkh0GNl"
      },
      "execution_count": 60,
      "outputs": []
    },
    {
      "cell_type": "markdown",
      "source": [
        "##### Pass the url and get the html data"
      ],
      "metadata": {
        "id": "eJkQnGaV0p23"
      }
    },
    {
      "cell_type": "code",
      "source": [
        "htmlData = getData(\"https://weather.com/weather/today/l/924f61ca28f5d5dad164c92a1cde87f262d71cb0e4e6370aa3307ea54687bd3a\")\n",
        "soup = BeautifulSoup(htmlData, \"html.parser\")\n",
        "print(soup.prettify())"
      ],
      "metadata": {
        "id": "rR97S2mN0wex"
      },
      "execution_count": null,
      "outputs": []
    },
    {
      "cell_type": "markdown",
      "source": [
        "##### Find the temp data"
      ],
      "metadata": {
        "id": "9cROVf-U3Hk9"
      }
    },
    {
      "cell_type": "code",
      "source": [
        "currentTemp = soup.find_all(\"span\", class_=\"CurrentConditions--tempValue--3a50n\")\n",
        "location = soup.find_all(\"h1\", class_=\"CurrentConditions--location--kyTeL\")\n",
        "dayNightTemp = soup.find_all(\"div\", class_=\"CurrentConditions--tempHiLoValue--3SUHy\")\n",
        "\n",
        "currentTemperature = (str(currentTemp))\n",
        "currentTemperature = currentTemperature.replace(\"[<span class=\\\"CurrentConditions--tempValue--3a50n\\\" data-testid=\\\"TemperatureValue\\\">\", \"\").replace(\"</span>]\", \"\")\n",
        "\n",
        "locationData = (str(location))\n",
        "locationData = locationData.replace(\"[<h1 class=\\\"CurrentConditions--location--kyTeL\\\">\", \"\").replace(\"</h1>]\", \"\")\n",
        "\n",
        "dayNightTemperature = (str(dayNightTemp))\n",
        "dayNightTemperature = dayNightTemperature.replace(\"[<div class=\\\"CurrentConditions--tempHiLoValue--3SUHy\\\">\", \"\").replace(\"<span data-testid=\\\"TemperatureValue\\\">\", \"\").replace(\"</span> <!-- -->•<!-- --> <!-- -->Night<!-- -->\", \"\").replace(\"</span></div>]\", \"\").replace(\"Day<!-- -->\", \"\")\n",
        "\n",
        "\n",
        "finalTempRecord = \"Current Temperature at \" + locationData + \" is \" + currentTemperature + \"\\nDay: \" + dayNightTemperature[1:4] + \", Night: \" + dayNightTemperature[5:8]\n",
        "print(finalTempRecord)"
      ],
      "metadata": {
        "colab": {
          "base_uri": "https://localhost:8080/"
        },
        "id": "Kag8Dcmn3PiE",
        "outputId": "a3c77736-57cb-4712-f325-4f459460885f"
      },
      "execution_count": 62,
      "outputs": [
        {
          "output_type": "stream",
          "name": "stdout",
          "text": [
            "Current Temperature at Wichita, KS is 61°\n",
            "Day: 62°, Night: 38°\n"
          ]
        }
      ]
    }
  ]
}